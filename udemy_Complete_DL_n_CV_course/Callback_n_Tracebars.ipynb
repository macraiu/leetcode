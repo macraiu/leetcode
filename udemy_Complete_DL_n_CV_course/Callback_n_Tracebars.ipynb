{
 "metadata": {
  "language_info": {
   "codemirror_mode": {
    "name": "ipython",
    "version": 3
   },
   "file_extension": ".py",
   "mimetype": "text/x-python",
   "name": "python",
   "nbconvert_exporter": "python",
   "pygments_lexer": "ipython3",
   "version": "3.8.5-final"
  },
  "orig_nbformat": 2,
  "kernelspec": {
   "name": "python38564bit4b50f99782b14509b4ca213dea7c2518",
   "display_name": "Python 3.8.5 64-bit",
   "language": "python"
  }
 },
 "nbformat": 4,
 "nbformat_minor": 2,
 "cells": [
  {
   "source": [
    "## Callback and Tracebars"
   ],
   "cell_type": "markdown",
   "metadata": {}
  },
  {
   "cell_type": "code",
   "execution_count": 5,
   "metadata": {},
   "outputs": [],
   "source": [
    "import cv2\n",
    "#cv2.__version__\n",
    "import matplotlib.pyplot as plt\n",
    "import os \n",
    "import numpy as np\n",
    "\n",
    "cwd = os.getcwd()\n",
    "img = cv2.imread(cwd + \"/imgs/dog.jpg\") \n",
    "# specify a 0 as a second argument for importing it in grey scale\n",
    "# default set to 1"
   ]
  },
  {
   "cell_type": "code",
   "execution_count": 6,
   "metadata": {},
   "outputs": [],
   "source": [
    "# Create a black image 512x512 pixels, with each pixel containing an RGB value\n",
    "# RGB goes up to 255, so it is defined that each cell of each pixel will have 8bits\n",
    "black_img = np.zeros((1024, 1024, 3), np.uint8)"
   ]
  },
  {
   "cell_type": "code",
   "execution_count": 7,
   "metadata": {},
   "outputs": [],
   "source": [
    "# Define callback\n",
    "def mouseCallback(event, x, y, flags, param):\n",
    "    if event == cv2.EVENT_LBUTTONDOWN:\n",
    "        cv2.circle(black_img, (x,y), 50, (255,50,70), 5)\n",
    "    if event == cv2.EVENT_RBUTTONDOWN:\n",
    "        cv2.circle(black_img, (x,y), 50, (50,255,70), 5)"
   ]
  },
  {
   "cell_type": "code",
   "execution_count": 8,
   "metadata": {},
   "outputs": [],
   "source": [
    "cv2.namedWindow(\"Image\")\n",
    "cv2.setMouseCallback(\"Image\", mouseCallback)    \n",
    "\n",
    "while True:\n",
    "    cv2.imshow(\"Image\", black_img)\n",
    "    k = cv2.waitKey(5) #every x milliseconds the poogram will check for a key pressed\n",
    "    if k == 27:\n",
    "        break\n",
    "\n",
    "cv2.destroyAllWindows()"
   ]
  },
  {
   "cell_type": "code",
   "execution_count": 9,
   "metadata": {},
   "outputs": [
    {
     "output_type": "stream",
     "name": "stdout",
     "text": [
      "1\n",
      "2\n",
      "1\n",
      "2\n",
      "1\n",
      "0\n",
      "1\n",
      "2\n"
     ]
    }
   ],
   "source": [
    "cv2.namedWindow(\"Image\")\n",
    "cv2.createTrackbar(\"Channel\", \"Image\", 0, 2, lambda x:print(x))\n",
    "\n",
    "while True:\n",
    "    v = cv2.getTrackbarPos(\"Channel\", \"Image\")\n",
    "    cv2.imshow(\"Image\", img[:,:,v])\n",
    "\n",
    "    k = cv2.waitKey(5)\n",
    "    if k == 27:\n",
    "        break\n",
    "\n",
    "cv2.destroyAllWindows()"
   ]
  }
 ]
}