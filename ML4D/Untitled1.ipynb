{
 "cells": [
  {
   "cell_type": "code",
   "execution_count": null,
   "metadata": {},
   "outputs": [],
   "source": [
    "import numpy as np\n",
    "\n",
    "nums = [1,2,3,4,5,4,3,2,5,6,7,4,0,9]\n",
    "\n",
    "res = list(map(lambda x: x<5, nums))\n",
    "print(res)\n",
    "\n",
    "res2 = list(filter(lambda x: x<5, nums))\n",
    "print(res2)"
   ]
  },
  {
   "cell_type": "code",
   "execution_count": null,
   "metadata": {},
   "outputs": [],
   "source": [
    "list_ = []\n",
    "dict_ = {}\n",
    "tuple_ = ()"
   ]
  },
  {
   "cell_type": "code",
   "execution_count": null,
   "metadata": {},
   "outputs": [],
   "source": [
    "print(type(list_))\n",
    "print(type(dict_))\n",
    "print(type(tuple_))"
   ]
  },
  {
   "cell_type": "code",
   "execution_count": null,
   "metadata": {},
   "outputs": [],
   "source": [
    "def infinte_sevens():\n",
    "    while True:\n",
    "        yield 7\n",
    "\n",
    "for i in infinte_sevens():\n",
    "    print(i)"
   ]
  },
  {
   "cell_type": "code",
   "execution_count": 33,
   "metadata": {},
   "outputs": [],
   "source": [
    "# decorator \n",
    "def decor(func):\n",
    "    def wrap():\n",
    "        print(\"-----\")\n",
    "        func()\n",
    "        print(\"-----\")\n",
    "    return wrap\n",
    "\n",
    "@decor\n",
    "def print_line():\n",
    "    print(\"hello world\")\n",
    "    \n",
    "#decorated = decor(print_line)"
   ]
  },
  {
   "cell_type": "code",
   "execution_count": 34,
   "metadata": {},
   "outputs": [],
   "source": [
    "#decorated()"
   ]
  },
  {
   "cell_type": "code",
   "execution_count": 35,
   "metadata": {},
   "outputs": [],
   "source": [
    "#print_line = decor(print_line)"
   ]
  },
  {
   "cell_type": "code",
   "execution_count": 36,
   "metadata": {},
   "outputs": [
    {
     "name": "stdout",
     "output_type": "stream",
     "text": [
      "-----\n",
      "hello world\n",
      "-----\n"
     ]
    }
   ],
   "source": [
    "print_line()"
   ]
  },
  {
   "cell_type": "code",
   "execution_count": 49,
   "metadata": {},
   "outputs": [
    {
     "name": "stdout",
     "output_type": "stream",
     "text": [
      "[<map object at 0x7f556c7abcd0>]\n"
     ]
    }
   ],
   "source": [
    "# recursion: in functional programming\n",
    "def factorial(n):\n",
    "    if n > 1:\n",
    "        yield n * factorial(n-1)\n",
    "    else:\n",
    "        yield 1\n",
    "    \n",
    "    \n",
    "result = factorial(1455555)\n",
    "print(list([map(int, result)]))"
   ]
  },
  {
   "cell_type": "code",
   "execution_count": null,
   "metadata": {},
   "outputs": [],
   "source": []
  }
 ],
 "metadata": {
  "kernelspec": {
   "display_name": "Python 3",
   "language": "python",
   "name": "python3"
  },
  "language_info": {
   "codemirror_mode": {
    "name": "ipython",
    "version": 3
   },
   "file_extension": ".py",
   "mimetype": "text/x-python",
   "name": "python",
   "nbconvert_exporter": "python",
   "pygments_lexer": "ipython3",
   "version": "3.7.4"
  }
 },
 "nbformat": 4,
 "nbformat_minor": 4
}
